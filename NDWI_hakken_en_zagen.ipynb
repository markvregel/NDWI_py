{
 "metadata": {
  "name": "",
  "signature": "sha256:d9729fce1d429dfd72fdf97f65644bf29358159655e111fd4b44401a5853295b"
 },
 "nbformat": 3,
 "nbformat_minor": 0,
 "worksheets": [
  {
   "cells": [
    {
     "cell_type": "heading",
     "level": 1,
     "metadata": {},
     "source": [
      "calculating NDWI and raster reprojection"
     ]
    },
    {
     "cell_type": "markdown",
     "metadata": {},
     "source": [
      "hakken en zagen\n",
      "\n",
      "Mark ten Vregelaar and Jos Goris\n",
      "\n",
      "20 January 2016"
     ]
    },
    {
     "cell_type": "heading",
     "level": 6,
     "metadata": {},
     "source": [
      "Import modules"
     ]
    },
    {
     "cell_type": "code",
     "collapsed": false,
     "input": [
      "import os, numpy as np,  osr\n",
      "import requests\n",
      "import tarfile\n",
      "from osgeo import gdal\n",
      "from osgeo.gdalconst import GA_ReadOnly, GDT_Float32"
     ],
     "language": "python",
     "metadata": {},
     "outputs": [],
     "prompt_number": 1
    },
    {
     "cell_type": "heading",
     "level": 6,
     "metadata": {},
     "source": [
      "Defining some functions to do the work"
     ]
    },
    {
     "cell_type": "code",
     "collapsed": false,
     "input": [
      "# Download data\n",
      "def download_extract_Data():\n",
      "    # Create directories\n",
      "    if not os.path.exists('downloads'):\n",
      "        os.makedirs('downloads')\n",
      "    if not os.path.exists('data'):\n",
      "        os.makedirs('data')\n",
      "    if not os.path.exists('results'):\n",
      "        os.makedirs('results')\n",
      "    # Define variables and paths\n",
      "    landsat_url = 'https://www.dropbox.com/s/zb7nrla6fqi1mq4/LC81980242014260-SC20150123044700.tar.gz?dl=1'\n",
      "    landsat_dl = 'downloads/LC81980242014260-SC20150123044700.tar'\n",
      "\n",
      "    if not os.path.isfile('downloads/LC81980242014260-SC20150123044700.tar'):\n",
      "        r = requests.get(landsat_url)\n",
      "        file_out = open(landsat_dl, 'wb')\n",
      "        file_out.write(r.content)\n",
      "        file_out.close()\n",
      "        \n",
      "    if not os.path.isfile('data/LC81980242014260LGN00_sr_band3.tif'):\n",
      "        landsat_tar = tarfile.open(landsat_dl)\n",
      "        landsat_tar.extractall('data')\n",
      "        landsat_tar.close()\n",
      "\n",
      "# Load Landsat data\n",
      "def openData():\n",
      "    bands = ['band4', 'band5']\n",
      "    for i in range(len(bands)):\n",
      "        datafile = 'data/LC81980242014260LGN00_sr_%s.tif' % bands[i]\n",
      "        dataSource = gdal.Open(datafile, GA_ReadOnly)\n",
      "        array = dataSource.GetRasterBand(1).ReadAsArray(0, 0, dataSource.RasterXSize, dataSource.RasterYSize)\n",
      "        bands[i] = array.astype(np.float32)\n",
      "        \n",
      "    return bands,  dataSource\n",
      "\n",
      "\n",
      "def calc_NDWI(band4,  band5):\n",
      "    mask = np.greater(band4 + band5, 0)\n",
      "    with np.errstate(divide='ignore'):\n",
      "        NDWI = np.choose(mask, (-99, (band4 - band5) / (band4 + band5)))\n",
      "    return NDWI"
     ],
     "language": "python",
     "metadata": {},
     "outputs": [],
     "prompt_number": 2
    },
    {
     "cell_type": "heading",
     "level": 6,
     "metadata": {},
     "source": [
      "Main script"
     ]
    },
    {
     "cell_type": "code",
     "collapsed": false,
     "input": [
      "# download and extract the data\n",
      "download_extract_Data()\n",
      "\n",
      "# open data\n",
      "bands, dataSource = openData()\n",
      "band4,band5 = bands[0], bands[1]\n",
      "\n",
      "# calculate NDVI\n",
      "NDWI = calc_NDWI(band4,  band5)\n",
      "\n",
      "# Write the result to disk\n",
      "driver = gdal.GetDriverByName('GTiff')\n",
      "outDataSet=driver.Create('./data/NDWI.tif', dataSource.RasterXSize, dataSource.RasterYSize, 1, GDT_Float32)\n",
      "outBand = outDataSet.GetRasterBand(1)\n",
      "outBand.WriteArray(NDWI,0,0)\n",
      "outBand.SetNoDataValue(-99)\n",
      "\n",
      "# set the projection and extent information of the dataset\n",
      "outDataSet.SetProjection(dataSource.GetProjection())\n",
      "outDataSet.SetGeoTransform(dataSource.GetGeoTransform())\n",
      "\n",
      "\n",
      "# Finally let's save it... or like in the OGR example flush it\n",
      "outBand.FlushCache()\n",
      "outDataSet.FlushCache()\n",
      "\n",
      "\n",
      "# tansform the dataset to WGS 84(latitude longitude)\n",
      "!gdalwarp -t_srs \"EPSG:4326\" ./data/NDWI.tif ./results/NDWI_LatLon.tif"
     ],
     "language": "python",
     "metadata": {},
     "outputs": [
      {
       "output_type": "stream",
       "stream": "stdout",
       "text": [
        "Processing input file ./data/NDWI.tif.\r\n"
       ]
      },
      {
       "output_type": "stream",
       "stream": "stdout",
       "text": [
        "Using internal nodata values (e.g. -99) for image ./data/NDWI.tif.\r\n",
        "Copying nodata values from source ./data/NDWI.tif to destination ./results/NDWI_LatLon.tif.\r\n"
       ]
      },
      {
       "output_type": "stream",
       "stream": "stdout",
       "text": [
        "0"
       ]
      },
      {
       "output_type": "stream",
       "stream": "stdout",
       "text": [
        "."
       ]
      },
      {
       "output_type": "stream",
       "stream": "stdout",
       "text": [
        "."
       ]
      },
      {
       "output_type": "stream",
       "stream": "stdout",
       "text": [
        ".10"
       ]
      },
      {
       "output_type": "stream",
       "stream": "stdout",
       "text": [
        ".."
       ]
      },
      {
       "output_type": "stream",
       "stream": "stdout",
       "text": [
        "."
       ]
      },
      {
       "output_type": "stream",
       "stream": "stdout",
       "text": [
        "20"
       ]
      },
      {
       "output_type": "stream",
       "stream": "stdout",
       "text": [
        "."
       ]
      },
      {
       "output_type": "stream",
       "stream": "stdout",
       "text": [
        "."
       ]
      },
      {
       "output_type": "stream",
       "stream": "stdout",
       "text": [
        "."
       ]
      },
      {
       "output_type": "stream",
       "stream": "stdout",
       "text": [
        "30"
       ]
      },
      {
       "output_type": "stream",
       "stream": "stdout",
       "text": [
        "."
       ]
      },
      {
       "output_type": "stream",
       "stream": "stdout",
       "text": [
        "."
       ]
      },
      {
       "output_type": "stream",
       "stream": "stdout",
       "text": [
        "."
       ]
      },
      {
       "output_type": "stream",
       "stream": "stdout",
       "text": [
        "40"
       ]
      },
      {
       "output_type": "stream",
       "stream": "stdout",
       "text": [
        ".."
       ]
      },
      {
       "output_type": "stream",
       "stream": "stdout",
       "text": [
        "."
       ]
      },
      {
       "output_type": "stream",
       "stream": "stdout",
       "text": [
        "50"
       ]
      },
      {
       "output_type": "stream",
       "stream": "stdout",
       "text": [
        ".."
       ]
      },
      {
       "output_type": "stream",
       "stream": "stdout",
       "text": [
        "."
       ]
      },
      {
       "output_type": "stream",
       "stream": "stdout",
       "text": [
        "60"
       ]
      },
      {
       "output_type": "stream",
       "stream": "stdout",
       "text": [
        ".."
       ]
      },
      {
       "output_type": "stream",
       "stream": "stdout",
       "text": [
        "."
       ]
      },
      {
       "output_type": "stream",
       "stream": "stdout",
       "text": [
        "70"
       ]
      },
      {
       "output_type": "stream",
       "stream": "stdout",
       "text": [
        "."
       ]
      },
      {
       "output_type": "stream",
       "stream": "stdout",
       "text": [
        "."
       ]
      },
      {
       "output_type": "stream",
       "stream": "stdout",
       "text": [
        "."
       ]
      },
      {
       "output_type": "stream",
       "stream": "stdout",
       "text": [
        "80"
       ]
      },
      {
       "output_type": "stream",
       "stream": "stdout",
       "text": [
        "."
       ]
      },
      {
       "output_type": "stream",
       "stream": "stdout",
       "text": [
        "."
       ]
      },
      {
       "output_type": "stream",
       "stream": "stdout",
       "text": [
        "."
       ]
      },
      {
       "output_type": "stream",
       "stream": "stdout",
       "text": [
        "90."
       ]
      },
      {
       "output_type": "stream",
       "stream": "stdout",
       "text": [
        "."
       ]
      },
      {
       "output_type": "stream",
       "stream": "stdout",
       "text": [
        ".100 - done.\r\n"
       ]
      }
     ],
     "prompt_number": 3
    },
    {
     "cell_type": "code",
     "collapsed": false,
     "input": [],
     "language": "python",
     "metadata": {},
     "outputs": []
    }
   ],
   "metadata": {}
  }
 ]
}